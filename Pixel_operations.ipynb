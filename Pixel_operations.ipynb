{
 "metadata": {
  "language_info": {
   "codemirror_mode": {
    "name": "ipython",
    "version": 3
   },
   "file_extension": ".py",
   "mimetype": "text/x-python",
   "name": "python",
   "nbconvert_exporter": "python",
   "pygments_lexer": "ipython3",
   "version": "3.7.9-final"
  },
  "orig_nbformat": 2,
  "kernelspec": {
   "name": "Python 3.7.9 64-bit ('Vision': conda)",
   "display_name": "Python 3.7.9 64-bit ('Vision': conda)",
   "metadata": {
    "interpreter": {
     "hash": "0ae9079bf9994a34136ddce0fb5ffe8894b01d57eebafd18935d1883468b2798"
    }
   }
  }
 },
 "nbformat": 4,
 "nbformat_minor": 2,
 "cells": [
  {
   "source": [
    "<h1 style=\"text-align:center\">SVA Practica 2 - Operaciones individuales por pixel</h1>\n",
    "<h2 style=\"text-align:center\">Elizarraras Llanos Angel Gustavo</h2>\n"
   ],
   "cell_type": "markdown",
   "metadata": {}
  },
  {
   "cell_type": "code",
   "execution_count": 1,
   "metadata": {},
   "outputs": [],
   "source": [
    "#Importando librerias necesarias\n",
    "import numpy as np\n",
    "import matplotlib.pyplot as plt \n",
    "from matplotlib import image\n",
    "from ipywidgets import interact, interactive, fixed, interact_manual\n",
    "import ipywidgets as widgets"
   ]
  },
  {
   "source": [
    "<h3>Funciones para los niveles de gris</h3>"
   ],
   "cell_type": "markdown",
   "metadata": {}
  },
  {
   "cell_type": "code",
   "execution_count": 2,
   "metadata": {},
   "outputs": [],
   "source": [
    "#R\n",
    "def R(IMA):\n",
    "    rojo = IMA[:,:,(0,0,0)]\n",
    "    return rojo"
   ]
  },
  {
   "cell_type": "code",
   "execution_count": 3,
   "metadata": {},
   "outputs": [],
   "source": [
    "#G\n",
    "def G(IMA):\n",
    "    verde = IMA[:,:,(1,1,1)]\n",
    "    return verde"
   ]
  },
  {
   "cell_type": "code",
   "execution_count": 4,
   "metadata": {},
   "outputs": [],
   "source": [
    "#B\n",
    "def B(IMA):\n",
    "    azul = IMA[:,:,(2,2,2)]\n",
    "    return azul"
   ]
  },
  {
   "cell_type": "code",
   "execution_count": 5,
   "metadata": {},
   "outputs": [],
   "source": [
    "def RGB2GRAY(IMA):\n",
    "    rgb2gray =  (0.2989 * IMA[:,:,(0,0,0)] + 0.587 * IMA[:,:,(1,1,1)] + 0.114 * IMA[:,:,(2,2,2)]).astype(np.uint8)\n",
    "    return rgb2gray"
   ]
  },
  {
   "source": [
    "<h3>Definiendo funciones a tratar la imagen</h3>"
   ],
   "cell_type": "markdown",
   "metadata": {}
  },
  {
   "cell_type": "code",
   "execution_count": 6,
   "metadata": {},
   "outputs": [],
   "source": [
    "#Identidad-\n",
    "def Identidad(gray, _ , __ ):\n",
    "    return gray"
   ]
  },
  {
   "cell_type": "code",
   "execution_count": 7,
   "metadata": {},
   "outputs": [],
   "source": [
    "#Inverso\n",
    "def Inverso(gray, _ , __ ):\n",
    "    return 255 - gray "
   ]
  },
  {
   "cell_type": "code",
   "execution_count": 8,
   "metadata": {},
   "outputs": [],
   "source": [
    "#Umbral\n",
    "def Umbral(gray, lim, _ ):\n",
    "    idx = gray[:,:,(0,0,0)] > lim\n",
    "    gray[idx] = 0\n",
    "    return gray"
   ]
  },
  {
   "cell_type": "code",
   "execution_count": 9,
   "metadata": {},
   "outputs": [],
   "source": [
    "# Umbral_Binario\n",
    "def Umbral_Binario(gray, q1, q2):\n",
    "    copy = gray\n",
    "    copy[(gray[:,:,(0,0,0)] <= q1) | (gray[:,:,(0,0,0)] >= q2)] = 255    \n",
    "    copy[(q2 > gray[:,:,(0,0,0)]) & (gray[:,:,(0,0,0)] > q1)] = 0\n",
    "    return copy"
   ]
  },
  {
   "cell_type": "code",
   "execution_count": 10,
   "metadata": {},
   "outputs": [],
   "source": [
    "# Operador intervalo de umbral binario invertido\n",
    "def Umbral_BinarioI(gray, q1, q2):\n",
    "    copy = gray\n",
    "    copy[(gray[:,:,(0,0,0)] <= q1) | (gray[:,:,(0,0,0)] >= q2)] = 0 \n",
    "    copy[(q2 > gray[:,:,(0,0,0)]) & (gray[:,:,(0,0,0)] > q1)] = 255 \n",
    "    return copy"
   ]
  },
  {
   "cell_type": "code",
   "execution_count": 11,
   "metadata": {},
   "outputs": [],
   "source": [
    "# Operador umbral de la escala de grises\n",
    "def Umbral_Grises(gray, q1, q2):\n",
    "    copy = np.where((gray <= q1)|(gray>=q2), 255, 255 - gray)\n",
    "    return copy"
   ]
  },
  {
   "cell_type": "code",
   "execution_count": 12,
   "metadata": {},
   "outputs": [],
   "source": [
    "# Operador umbral de la escala de grises invertido\n",
    "def Umbral_GrisesI(gray, q1, q2):\n",
    "    copy = np.where((gray <= q1)|(gray>=q2), 255, gray)\n",
    "    return copy"
   ]
  },
  {
   "cell_type": "code",
   "execution_count": 13,
   "metadata": {},
   "outputs": [],
   "source": [
    "# Operador de extensión\n",
    "def Extension(gray, q1, q2):\n",
    "    copy = np.where((gray <= q1) | (gray >= q2), 0, (gray-q1) * (255 /(q2-q1)))\n",
    "    return copy"
   ]
  },
  {
   "cell_type": "code",
   "execution_count": 14,
   "metadata": {},
   "outputs": [],
   "source": [
    "# Operador reducción del nivel de gris\n",
    "def Reduccion_Gris(gray, q1, q2):\n",
    "    return gray"
   ]
  },
  {
   "cell_type": "code",
   "execution_count": 15,
   "metadata": {},
   "outputs": [],
   "source": [
    "dic_grises = {'r':R, 'g':G, 'b':B, 'rgb2gray':RGB2GRAY}\n",
    "dic_operaciones = { 'Identidad':Identidad, 'Inverso':Inverso, 'Umbral':Umbral,\n",
    "                    'Operador intervalo de umbral binario':Umbral_Binario,\n",
    "                    'Operador intervalo de umbral binario invertido':Umbral_BinarioI,\n",
    "                    'Operador umbral de la escala de grises':Umbral_Grises,\n",
    "                    'Operador umbral de la escala de grises invertido':Umbral_GrisesI,\n",
    "                    'Operador de extensión':Extension, \n",
    "                    'Operador reducción del nivel de gris':Reduccion_Gris }"
   ]
  },
  {
   "source": [
    "<h3>Funcion para el grafico interactivo</h3>"
   ],
   "cell_type": "markdown",
   "metadata": {}
  },
  {
   "cell_type": "code",
   "execution_count": 16,
   "metadata": {},
   "outputs": [],
   "source": [
    "def plotting(gris, operacion, lim1, lim2):\n",
    "    Original = image.imread('Bulbasaur.jpg')\n",
    "    fig, axs = plt.subplots(1,2)\n",
    "    imagen_gris = dic_grises[gris](Original)\n",
    "    axs[0].imshow(imagen_gris)\n",
    "    axs[0].set_title('Gris ' + gris.capitalize())\n",
    "    q1, q2 = lim1, lim2\n",
    "    imagen_tratada = dic_operaciones[operacion](imagen_gris, q1, q2)\n",
    "    axs[1].imshow(imagen_tratada)\n",
    "\n",
    "    plt.show()"
   ]
  },
  {
   "cell_type": "code",
   "execution_count": 17,
   "metadata": {},
   "outputs": [
    {
     "output_type": "display_data",
     "data": {
      "text/plain": "interactive(children=(Dropdown(description='gris', options=(('r', 'r'), ('g', 'g'), ('b', 'b'), ('rgb2gray', '…",
      "application/vnd.jupyter.widget-view+json": {
       "version_major": 2,
       "version_minor": 0,
       "model_id": "c389bfbabd28434d8486b35e30bd1126"
      }
     },
     "metadata": {}
    }
   ],
   "source": [
    "#Pruebas\n",
    "GREYS = [(s,s) for s in dic_grises.keys()]\n",
    "OPERACIONES = [(s,s) for s in dic_operaciones.keys()]\n",
    "_ = widgets.interact(plotting, gris = GREYS, operacion = OPERACIONES,\n",
    "                     lim1=widgets.IntSlider(min=0, max=255, step=1),\n",
    "                     lim2=widgets.IntSlider(min=0, max=255, step=1))"
   ]
  },
  {
   "cell_type": "code",
   "execution_count": null,
   "metadata": {},
   "outputs": [],
   "source": []
  }
 ]
}